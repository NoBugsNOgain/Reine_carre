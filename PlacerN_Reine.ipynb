{
 "cells": [
  {
   "cell_type": "code",
   "execution_count": 9,
   "metadata": {},
   "outputs": [],
   "source": [
    "from numpy import *\n",
    "import tkinter as tki\n",
    "from tkinter import *\n",
    "import webbrowser\n",
    "global N"
   ]
  },
  {
   "cell_type": "code",
   "execution_count": 10,
   "metadata": {},
   "outputs": [],
   "source": [
    "def verifierTableau(tableau, N):\n",
    "    nb=0\n",
    "    for i in range(N): \n",
    "             for j in range(N): \n",
    "                    if(tableau[i][j]==1):\n",
    "                        nb=nb+1\n",
    "    return nb==(N*N)-(N-1)  "
   ]
  },
  {
   "cell_type": "code",
   "execution_count": 11,
   "metadata": {},
   "outputs": [],
   "source": [
    "def printSolution(tableau): \n",
    "    for i in range(N): \n",
    "        for j in range(N): \n",
    "            print (tableau[i][j], end = \" \") \n",
    "        print() "
   ]
  },
  {
   "cell_type": "code",
   "execution_count": 12,
   "metadata": {},
   "outputs": [],
   "source": [
    "def caseInterdite(tableau, ligne, colonne): \n",
    "  \n",
    "    # Check this row on left side \n",
    "    for i in range(N): \n",
    "         tableau[i][colonne]=1\n",
    "    for i in range(N):\n",
    "        for j in range(N):\n",
    "            if((i-j)==(ligne-colonne))or ((i+j)==(ligne+colonne)):\n",
    "                tableau[i][j]=1\n",
    "    for k in range(colonne):\n",
    "        tableau[ligne][k]=1\n",
    "    for m in range(colonne+1,N):\n",
    "        tableau[ligne][m]=1"
   ]
  },
  {
   "cell_type": "code",
   "execution_count": 15,
   "metadata": {},
   "outputs": [],
   "source": [
    "def placerReine(ligne, colonne, tableau):\n",
    "    if (colonne>N-1):\n",
    "        print(\"Pas de place dans toute les colonnes\")\n",
    "    elif (tableau[ligne][colonne]!=0):\n",
    "        placerReine(ligne,colonne+1,tableau)\n",
    "    else:\n",
    "        caseInterdite(tableau, ligne, colonne)\n",
    "        tableau[ligne][colonne]=ligne+1"
   ]
  },
  {
   "cell_type": "code",
   "execution_count": 16,
   "metadata": {},
   "outputs": [],
   "source": [
    "def placerTouteLesReines(ligne, colonne, tableau):\n",
    "    if (ligne>N-1):\n",
    "        print(\"l echiquier est déjà complet\")\n",
    "    else:\n",
    "        placerReine(ligne, colonne, tableau)\n",
    "        colonne=0\n",
    "        placerTouteLesReines(ligne+1, colonne, tableau)"
   ]
  },
  {
   "cell_type": "code",
   "execution_count": 17,
   "metadata": {},
   "outputs": [],
   "source": [
    "def solution(N):\n",
    "    tableau=zeros((N, N), int)\n",
    "    ligne=0\n",
    "    colonne=0\n",
    "    z=1\n",
    "    for colonne in range (N):\n",
    "            placerTouteLesReines(ligne, colonne, tableau)\n",
    "            z=verifierTableau(tableau, N)\n",
    "            if(z==1):\n",
    "                printSolution(tableau)\n",
    "            tableau=zeros((N, N), int)\n",
    "            z=0"
   ]
  },
  {
   "cell_type": "code",
   "execution_count": 18,
   "metadata": {},
   "outputs": [
    {
     "name": "stdout",
     "output_type": "stream",
     "text": [
      "Pas de place dans toute les colonnes\n",
      "l echiquier est déjà complet\n",
      "l echiquier est déjà complet\n",
      "1 1 1 1 \n",
      "1 1 1 2 \n",
      "3 1 1 1 \n",
      "1 1 4 1 \n",
      "l echiquier est déjà complet\n",
      "1 1 1 1 \n",
      "2 1 1 1 \n",
      "1 1 1 3 \n",
      "1 4 1 1 \n",
      "Pas de place dans toute les colonnes\n",
      "l echiquier est déjà complet\n"
     ]
    }
   ],
   "source": [
    "N=4\n",
    "solution(N)"
   ]
  },
  {
   "cell_type": "code",
   "execution_count": null,
   "metadata": {},
   "outputs": [],
   "source": []
  }
 ],
 "metadata": {
  "kernelspec": {
   "display_name": "Python 3",
   "language": "python",
   "name": "python3"
  },
  "language_info": {
   "codemirror_mode": {
    "name": "ipython",
    "version": 3
   },
   "file_extension": ".py",
   "mimetype": "text/x-python",
   "name": "python",
   "nbconvert_exporter": "python",
   "pygments_lexer": "ipython3",
   "version": "3.8.3"
  }
 },
 "nbformat": 4,
 "nbformat_minor": 4
}
